{
 "cells": [
  {
   "cell_type": "markdown",
   "metadata": {
    "id": "sSyQnExiOOcf"
   },
   "source": [
    "<p style=\"align: center;\"><img align=center src=\"https://s8.hostingkartinok.com/uploads/images/2018/08/308b49fcfbc619d629fe4604bceb67ac.jpg\" width=500 height=450/></p>\n",
    "\n",
    "<h3 style=\"text-align: center;\"><b>\"Глубокое обучение\". Продвинутый поток</b></h3>\n",
    "\n",
    "<h2 style=\"text-align: center;\"><b>Семинар 6. PyTorch. Создание и обучение нейронных сетей </b></h2>\n"
   ]
  },
  {
   "cell_type": "markdown",
   "metadata": {
    "id": "D4GdBvkZOp8M"
   },
   "source": [
    "# Neural networks training using PyTorch\n",
    "\n",
    "In this notebook we build and train simple neural network using PyTorch. Our goal is to show the basics of torch framework and achieve simple understandings of how problemsolving with neural networks looks like."
   ]
  },
  {
   "cell_type": "code",
   "execution_count": 2,
   "metadata": {
    "id": "x4kC-U8dOpZU"
   },
   "outputs": [],
   "source": [
    "import torch"
   ]
  },
  {
   "cell_type": "code",
   "execution_count": 3,
   "metadata": {
    "colab": {
     "base_uri": "https://localhost:8080/",
     "height": 35
    },
    "executionInfo": {
     "elapsed": 1018,
     "status": "ok",
     "timestamp": 1603135945050,
     "user": {
      "displayName": "Deep Learning School",
      "photoUrl": "https://lh3.googleusercontent.com/a-/AOh14GhNf0RkP5WvkU5MixKfC1Sv3mb-9QWgAbC6VcfQvA=s64",
      "userId": "16549096980415837553"
     },
     "user_tz": -180
    },
    "id": "DiMnj_xTWFW3",
    "outputId": "aec2f7da-00eb-471b-f5bc-01b133db030c"
   },
   "outputs": [
    {
     "data": {
      "text/plain": [
       "device(type='cuda', index=0)"
      ]
     },
     "execution_count": 3,
     "metadata": {},
     "output_type": "execute_result"
    }
   ],
   "source": [
    "device = torch.device('cuda:0') if torch.cuda.is_available \\\n",
    "                                else torch.device('cpu')\n",
    "device"
   ]
  },
  {
   "cell_type": "markdown",
   "metadata": {
    "id": "t4BjZJQ2PdGw"
   },
   "source": [
    "## Dataset Preparation\n",
    "\n",
    "Here we learn some basic data preparation functions and classes from PyTorch as:\n",
    "\n",
    "- `torch.utils.data.Dataset` and `torch.utils.data.DataLoader`\n",
    "- dataset downloading api\n",
    "\n",
    "First we would like to define our problem. Here we load the MNIST dataset (with PyTorch API)\n",
    "\n",
    "MNIST:\n",
    "- 28x28 images of `0`, `1`, .. `9`\n",
    "- each pixel is grayscaled (float value in [0, 1))\n",
    "- targets are int values in [0, 9] (10 classes)\n",
    "- objects are ($x_i$, $y_i$), where $x_i$ shape is (1, 28, 28), $y_i$ is int value\n",
    "\n",
    "For our purposes we will flatten the input ($x$), so our data during train will have shapes:\n",
    "\n",
    "- `x_batch` shape `(batch_size, 784)`\n",
    "- `y_batch` shape `(batch_size)`\n",
    "\n"
   ]
  },
  {
   "cell_type": "code",
   "execution_count": 4,
   "metadata": {
    "id": "4-L2wfz7Pczm"
   },
   "outputs": [],
   "source": [
    "from torchvision.datasets import MNIST\n",
    "import torchvision.transforms as tfs"
   ]
  },
  {
   "cell_type": "code",
   "execution_count": 39,
   "metadata": {
    "id": "67geRKgxUKcV"
   },
   "outputs": [],
   "source": [
    "data_tfs = tfs.Compose([\n",
    "  tfs.ToTensor(),\n",
    "  tfs.Normalize((0.5,), (0.5,)) #normalize from -1 to 1\n",
    "])"
   ]
  },
  {
   "cell_type": "code",
   "execution_count": 40,
   "metadata": {
    "id": "KrrlpkzbQxbl",
    "scrolled": true
   },
   "outputs": [],
   "source": [
    "# install for train and test\n",
    "root = './'\n",
    "train = MNIST(root, train=True,  transform=data_tfs, download=True)\n",
    "test  = MNIST(root, train=False, transform=data_tfs, download=True)"
   ]
  },
  {
   "cell_type": "code",
   "execution_count": 41,
   "metadata": {},
   "outputs": [
    {
     "data": {
      "text/plain": [
       "torch.Size([60000, 28, 28])"
      ]
     },
     "execution_count": 41,
     "metadata": {},
     "output_type": "execute_result"
    }
   ],
   "source": [
    "train.data.shape"
   ]
  },
  {
   "cell_type": "code",
   "execution_count": 45,
   "metadata": {
    "colab": {
     "base_uri": "https://localhost:8080/",
     "height": 124
    },
    "executionInfo": {
     "elapsed": 598,
     "status": "ok",
     "timestamp": 1603135949975,
     "user": {
      "displayName": "Deep Learning School",
      "photoUrl": "https://lh3.googleusercontent.com/a-/AOh14GhNf0RkP5WvkU5MixKfC1Sv3mb-9QWgAbC6VcfQvA=s64",
      "userId": "16549096980415837553"
     },
     "user_tz": -180
    },
    "id": "X4gMHMSBTdEm",
    "outputId": "11eefa8b-ac0d-464d-d0fe-85ba144a7a4b"
   },
   "outputs": [
    {
     "name": "stdout",
     "output_type": "stream",
     "text": [
      "Data size:\n",
      "\t train 60000,\n",
      "\t test 10000\n",
      "Data shape:\n",
      "\t features torch.Size([1, 28, 28]),\n",
      "\t target <class 'int'>\n"
     ]
    }
   ],
   "source": [
    "print(f'Data size:\\n\\t train {len(train)},\\n\\t test {len(test)}')\n",
    "print(f'Data shape:\\n\\t features {train[0][0].shape},\\n\\t target {type(test[0][1])}')"
   ]
  },
  {
   "cell_type": "markdown",
   "metadata": {
    "id": "omdMTw-XTDz5"
   },
   "source": [
    "New thing we don't need to make batch loader by ourselves. Let us use the torch implementation of it called `DataLoader` from `torch.utils.data`"
   ]
  },
  {
   "cell_type": "code",
   "execution_count": 46,
   "metadata": {
    "id": "oTbQiE7DTDMG"
   },
   "outputs": [],
   "source": [
    "from torch.utils.data import DataLoader\n",
    "\n",
    "batch_size = 128\n",
    "\n",
    "train_loader = DataLoader(train, batch_size=batch_size, \n",
    "                          drop_last=True) #delete unfull last batch\n",
    "test_loader = DataLoader(test, batch_size=batch_size, drop_last=True)"
   ]
  },
  {
   "cell_type": "code",
   "execution_count": 47,
   "metadata": {
    "colab": {
     "base_uri": "https://localhost:8080/",
     "height": 35
    },
    "executionInfo": {
     "elapsed": 1350,
     "status": "ok",
     "timestamp": 1603135952405,
     "user": {
      "displayName": "Deep Learning School",
      "photoUrl": "https://lh3.googleusercontent.com/a-/AOh14GhNf0RkP5WvkU5MixKfC1Sv3mb-9QWgAbC6VcfQvA=s64",
      "userId": "16549096980415837553"
     },
     "user_tz": -180
    },
    "id": "MkQ86w8fXFXL",
    "outputId": "07cd1988-e6e5-4d06-8bf9-7252e73ce285"
   },
   "outputs": [
    {
     "data": {
      "text/plain": [
       "(torch.Size([128, 1, 28, 28]), torch.Size([128]))"
      ]
     },
     "execution_count": 47,
     "metadata": {},
     "output_type": "execute_result"
    }
   ],
   "source": [
    "x_batch, y_batch = next(iter(train_loader))\n",
    "x_batch.shape, y_batch.shape"
   ]
  },
  {
   "cell_type": "markdown",
   "metadata": {
    "id": "4brdJhe0XeKm"
   },
   "source": [
    "Finally we're prepared our data, so let's build some model to classify the images!"
   ]
  },
  {
   "cell_type": "markdown",
   "metadata": {
    "id": "-niriIktOclz"
   },
   "source": [
    "## Model and Train (of abnormal people)\n",
    "\n",
    "We now how the torch computes the gradient functions during the computation of expression. Using `.backward()` method on expression **we pass the tree of gradient computing till the leafs** which are reliable for parameters of our model.\n",
    "\n",
    "Thus, we use this knowledge to find the optimal weights of some model, which is represented by some expression.\n",
    "\n",
    "Assume,\n",
    "1. We want to learn linear model\n",
    "2. For each class we use own weights to calculate logits\n",
    "3. We use softmax on logits for probabilities of each class\n",
    "4. Train on batches using sgd"
   ]
  },
  {
   "cell_type": "code",
   "execution_count": 48,
   "metadata": {
    "id": "ZwQ0rR_EZiGL"
   },
   "outputs": [],
   "source": [
    "features = 784\n",
    "classes = 10"
   ]
  },
  {
   "cell_type": "code",
   "execution_count": 49,
   "metadata": {
    "colab": {
     "base_uri": "https://localhost:8080/",
     "height": 159
    },
    "executionInfo": {
     "elapsed": 1076,
     "status": "ok",
     "timestamp": 1603135954200,
     "user": {
      "displayName": "Deep Learning School",
      "photoUrl": "https://lh3.googleusercontent.com/a-/AOh14GhNf0RkP5WvkU5MixKfC1Sv3mb-9QWgAbC6VcfQvA=s64",
      "userId": "16549096980415837553"
     },
     "user_tz": -180
    },
    "id": "KZ-qXVG5mVq3",
    "outputId": "77a9cc9e-85b2-4a85-953d-e2191def511f"
   },
   "outputs": [
    {
     "data": {
      "text/plain": [
       "tensor([[ 0.0220, -0.0292,  0.0191,  ...,  0.0248, -0.0309,  0.0019],\n",
       "        [ 0.0247, -0.0300, -0.0106,  ...,  0.0130,  0.0002, -0.0051],\n",
       "        [-0.0311,  0.0132,  0.0109,  ..., -0.0313, -0.0064,  0.0026],\n",
       "        ...,\n",
       "        [ 0.0171, -0.0181,  0.0229,  ..., -0.0155,  0.0189, -0.0020],\n",
       "        [ 0.0031,  0.0032,  0.0346,  ...,  0.0074,  0.0106, -0.0223],\n",
       "        [ 0.0136, -0.0170,  0.0273,  ..., -0.0317, -0.0022,  0.0150]],\n",
       "       requires_grad=True)"
      ]
     },
     "execution_count": 49,
     "metadata": {},
     "output_type": "execute_result"
    }
   ],
   "source": [
    "W = torch.FloatTensor(features, classes).uniform_(-1, 1) / features**0.5\n",
    "W.requires_grad_()"
   ]
  },
  {
   "cell_type": "markdown",
   "metadata": {
    "id": "PUVgNd-LaRhZ"
   },
   "source": [
    "SGD train loop"
   ]
  },
  {
   "cell_type": "code",
   "execution_count": 51,
   "metadata": {
    "id": "v6lQU1rgaWjY"
   },
   "outputs": [],
   "source": [
    "epochs = 3\n",
    "lr=1e-2\n",
    "history = []"
   ]
  },
  {
   "cell_type": "code",
   "execution_count": 52,
   "metadata": {
    "id": "QMBcROViilwY"
   },
   "outputs": [],
   "source": [
    "import numpy as np\n",
    "from torch.nn.functional import cross_entropy"
   ]
  },
  {
   "cell_type": "code",
   "execution_count": 56,
   "metadata": {},
   "outputs": [],
   "source": [
    "x_batch, y_batch = next(iter(train_loader))"
   ]
  },
  {
   "cell_type": "code",
   "execution_count": 64,
   "metadata": {
    "colab": {
     "base_uri": "https://localhost:8080/",
     "height": 70
    },
    "executionInfo": {
     "elapsed": 34326,
     "status": "ok",
     "timestamp": 1603135989174,
     "user": {
      "displayName": "Deep Learning School",
      "photoUrl": "https://lh3.googleusercontent.com/a-/AOh14GhNf0RkP5WvkU5MixKfC1Sv3mb-9QWgAbC6VcfQvA=s64",
      "userId": "16549096980415837553"
     },
     "user_tz": -180
    },
    "id": "V1Cqa86BOWu1",
    "outputId": "f13d9628-c5b3-48a6-9389-d11c62f4721a"
   },
   "outputs": [
    {
     "name": "stdout",
     "output_type": "stream",
     "text": [
      "1,\t loss: 0.10725454986095428\n",
      "2,\t loss: 0.10096867382526398\n",
      "3,\t loss: 0.09638412296772003\n"
     ]
    }
   ],
   "source": [
    "for i in range(epochs):\n",
    "    for x_batch, y_batch in train_loader:\n",
    "        # load batches of data correctly\n",
    "        x_batch = x_batch.reshape(x_batch.shape[0], -1) # reshape in (128, 784)\n",
    "\n",
    "        # compute loss (log loss a.k.a. cross entropy)\n",
    "        logits = x_batch @ W\n",
    "        probabilities = torch.exp(logits) / \\ # softmax\n",
    "                        torch.exp(logits).sum(dim=1, keepdims=True)\n",
    "        \n",
    "        #logloss\n",
    "        loss = -torch.log(probabilities[range(batch_size), y_batch]).mean()\n",
    "        history.append(loss.item())\n",
    "\n",
    "        # calc gradients\n",
    "        loss.backward()\n",
    "\n",
    "        # step of gradient descent\n",
    "        grad = W.grad\n",
    "        with torch.no_grad():\n",
    "            W -= lr * grad\n",
    "        W.grad.zero_() # turn off accumulate grad values\n",
    "\n",
    "    print(f'{i+1},\\t loss: {history[-1]}')"
   ]
  },
  {
   "cell_type": "markdown",
   "metadata": {
    "id": "a4_T6SIEevn6"
   },
   "source": [
    "And of course we should plot the loss through our training"
   ]
  },
  {
   "cell_type": "code",
   "execution_count": 65,
   "metadata": {
    "id": "K-pkgEBtfyIU"
   },
   "outputs": [],
   "source": [
    "import matplotlib.pyplot as plt"
   ]
  },
  {
   "cell_type": "code",
   "execution_count": 66,
   "metadata": {
    "colab": {
     "base_uri": "https://localhost:8080/",
     "height": 458
    },
    "executionInfo": {
     "elapsed": 31681,
     "status": "ok",
     "timestamp": 1603135989177,
     "user": {
      "displayName": "Deep Learning School",
      "photoUrl": "https://lh3.googleusercontent.com/a-/AOh14GhNf0RkP5WvkU5MixKfC1Sv3mb-9QWgAbC6VcfQvA=s64",
      "userId": "16549096980415837553"
     },
     "user_tz": -180
    },
    "id": "ISFcr5Pab8tZ",
    "outputId": "3b1d38dd-cf3e-4094-bf73-c0111eb08881"
   },
   "outputs": [
    {
     "data": {
      "image/png": "[encoded data removed]",
      "text/plain": [
       "<Figure size 720x504 with 1 Axes>"
      ]
     },
     "metadata": {
      "needs_background": "light"
     },
     "output_type": "display_data"
    }
   ],
   "source": [
    "plt.figure(figsize=(10, 7))\n",
    "\n",
    "plt.plot(history)\n",
    "\n",
    "plt.title('Loss by batch iterations')\n",
    "plt.ylabel('Entropy Loss')\n",
    "plt.xlabel('batches')\n",
    "\n",
    "plt.show()"
   ]
  },
  {
   "cell_type": "markdown",
   "metadata": {
    "id": "zDAEdkQsovxN"
   },
   "source": [
    "Some quality metrics for our linear model"
   ]
  },
  {
   "cell_type": "code",
   "execution_count": 67,
   "metadata": {
    "id": "PNtRCtcJfktA"
   },
   "outputs": [],
   "source": [
    "from sklearn.metrics import accuracy_score"
   ]
  },
  {
   "cell_type": "code",
   "execution_count": 68,
   "metadata": {
    "colab": {
     "base_uri": "https://localhost:8080/",
     "height": 35
    },
    "executionInfo": {
     "elapsed": 29709,
     "status": "ok",
     "timestamp": 1603135991305,
     "user": {
      "displayName": "Deep Learning School",
      "photoUrl": "https://lh3.googleusercontent.com/a-/AOh14GhNf0RkP5WvkU5MixKfC1Sv3mb-9QWgAbC6VcfQvA=s64",
      "userId": "16549096980415837553"
     },
     "user_tz": -180
    },
    "id": "GwR-p1UXo-PT",
    "outputId": "5de25ced-13a1-44f6-b4ca-b79ae508e572"
   },
   "outputs": [
    {
     "name": "stdout",
     "output_type": "stream",
     "text": [
      "Test accuracy 0.908\n"
     ]
    }
   ],
   "source": [
    "acc = 0\n",
    "batches = 0\n",
    "\n",
    "for x_batch, y_batch in test_loader:\n",
    "  # load batches of data correctly\n",
    "  batches += 1\n",
    "  x_batch = x_batch.view(x_batch.shape[0], -1)\n",
    "  y_batch = y_batch\n",
    "\n",
    "  preds = torch.argmax(x_batch @ W, dim=1)\n",
    "  acc += (preds==y_batch).cpu().numpy().mean()\n",
    "\n",
    "print(f'Test accuracy {acc / batches:.3}')"
   ]
  },
  {
   "cell_type": "markdown",
   "metadata": {
    "id": "Dmr2DLSxqGQx"
   },
   "source": [
    "Result, we now see that every variable or tensor is provided with its own `grad` and `grad_fn`. This part showed we can directly manipulate with them. Also it is very inconvinient, but sometimes we should be able to access such flexibility.\n",
    "\n",
    "Of course PyTorch has higher level of operations between weights and grads, than we saw above. Next part introduces high level of modeling and training neural networks. \n"
   ]
  },
  {
   "cell_type": "markdown",
   "metadata": {
    "id": "wgsY-55IrCGQ"
   },
   "source": [
    "## Model\n",
    "\n",
    "PyTorch is flexible framework to build any kind of neural network\n",
    "\n",
    "Here is a table of comparison:\n",
    "\n",
    "```\n",
    "| API             | Flexibility | Convenience |,\n",
    "|-----------------|-------------|-------------|,\n",
    "| Barebone        | High        | Low         |,\n",
    "| `nn.Module`     | High        | Medium      |,\n",
    "| `nn.Sequential` | Low         | High        |\n",
    "```"
   ]
  },
  {
   "cell_type": "markdown",
   "metadata": {
    "id": "v5JkAMkRr7Z9"
   },
   "source": [
    "1. barebone is the approach where we directly manipulate with ternsors. In the example above we had the objective function directly expressid by weights. If we develop this method into classes we would get this level of API. **On this level we code modules by ourselves**\n",
    "\n",
    "2. [`nn.Module`](https://pytorch.org/docs/stable/nn.html) is the parent class for many PyTorch introduced modules. There are plenty of them. They are pretty enough to use them out-of-the-box with required parameters. Mostly we use:\n",
    "\n",
    "- `nn.Linear`\n",
    "- `nn.Softmax`, `nn.LogSoftmax`\n",
    "- `nn.ReLU`, `nn.ELU`, `nn.LeakyReLU`\n",
    "- `nn.Tanh`, `nn.Sigmoid`\n",
    "- `nn.LSTM`, `nn.GRU`\n",
    "- `nn.Conv1d`, `nn.Conv2d`\n",
    "- `nn.MaxPool1d`, `nn.AdaptiveMaxPool1d` and others pooling\n",
    "- `nn.BatchNorm1d`, `nn.BatchNorm2d`\n",
    "- `nn.Dropout`\n",
    "- losses: `nn.CrossEntropyLoss`, `nn.NLLLoss`, `nn.MSELoss`\n",
    "- etc\n",
    "\n",
    "3. `nn.Sequential` is no more than sequence of different modules based on `nn.Module`. They are initiatiated by a list of modules, where output from one module goes as input for next in sequence.\n",
    "\n",
    "\n",
    "Let's **develop a simple sequential** to classify MNIST using **two linear layers** model."
   ]
  },
  {
   "cell_type": "code",
   "execution_count": 70,
   "metadata": {
    "id": "V4d3LntkwSyk"
   },
   "outputs": [],
   "source": [
    "import torch.nn as nn\n",
    "from torchsummary import summary"
   ]
  },
  {
   "cell_type": "code",
   "execution_count": 71,
   "metadata": {
    "colab": {
     "base_uri": "https://localhost:8080/",
     "height": 106
    },
    "executionInfo": {
     "elapsed": 1247,
     "status": "ok",
     "timestamp": 1603136050211,
     "user": {
      "displayName": "Deep Learning School",
      "photoUrl": "https://lh3.googleusercontent.com/a-/AOh14GhNf0RkP5WvkU5MixKfC1Sv3mb-9QWgAbC6VcfQvA=s64",
      "userId": "16549096980415837553"
     },
     "user_tz": -180
    },
    "id": "1EAghRDFwcCM",
    "outputId": "0130b271-6cf7-4582-8ecb-34ff78758fef"
   },
   "outputs": [
    {
     "data": {
      "text/plain": [
       "Sequential(\n",
       "  (0): Linear(in_features=784, out_features=64, bias=True)\n",
       "  (1): ReLU()\n",
       "  (2): Linear(in_features=64, out_features=10, bias=True)\n",
       ")"
      ]
     },
     "execution_count": 71,
     "metadata": {},
     "output_type": "execute_result"
    }
   ],
   "source": [
    "model = nn.Sequential(\n",
    "  nn.Linear(features, 64), # features_in, features_out \n",
    "  nn.ReLU(),\n",
    "  nn.Linear(64, classes)\n",
    ")\n",
    "\n",
    "# It is the same as:\n",
    "#\n",
    "# model = nn.Sequential()\n",
    "# model.add_module('0', nn.Linear(features, 64))\n",
    "# model.add_module('1', nn.Linear(64, classes))\n",
    "\n",
    "model.to(device)"
   ]
  },
  {
   "cell_type": "markdown",
   "metadata": {
    "id": "jb4dP98KxQI8"
   },
   "source": [
    "We can check if everything is fine with hidden layers by `torchsummary.summary`. It needs the shape of input data to produce visualisation of model"
   ]
  },
  {
   "cell_type": "code",
   "execution_count": 72,
   "metadata": {
    "colab": {
     "base_uri": "https://localhost:8080/",
     "height": 301
    },
    "executionInfo": {
     "elapsed": 1297,
     "status": "ok",
     "timestamp": 1603136061718,
     "user": {
      "displayName": "Deep Learning School",
      "photoUrl": "https://lh3.googleusercontent.com/a-/AOh14GhNf0RkP5WvkU5MixKfC1Sv3mb-9QWgAbC6VcfQvA=s64",
      "userId": "16549096980415837553"
     },
     "user_tz": -180
    },
    "id": "BiZ3fQBnxNvh",
    "outputId": "8fc55eaf-447d-4d5f-b515-4d411370802a"
   },
   "outputs": [
    {
     "name": "stdout",
     "output_type": "stream",
     "text": [
      "----------------------------------------------------------------\n",
      "        Layer (type)               Output Shape         Param #\n",
      "================================================================\n",
      "            Linear-1                  [228, 64]          50,240\n",
      "              ReLU-2                  [228, 64]               0\n",
      "            Linear-3                  [228, 10]             650\n",
      "================================================================\n",
      "Total params: 50,890\n",
      "Trainable params: 50,890\n",
      "Non-trainable params: 0\n",
      "----------------------------------------------------------------\n",
      "Input size (MB): 0.68\n",
      "Forward/backward pass size (MB): 0.24\n",
      "Params size (MB): 0.19\n",
      "Estimated Total Size (MB): 1.12\n",
      "----------------------------------------------------------------\n"
     ]
    }
   ],
   "source": [
    "summary(model, (features,), batch_size=228)"
   ]
  },
  {
   "cell_type": "markdown",
   "metadata": {
    "id": "nfjR9itOwPO5"
   },
   "source": [
    "## Train\n",
    "\n",
    "As we know, most important thing to do in solving problem are **3 things**:\n",
    "\n",
    "1. Model\n",
    "2. Objective (loss function)\n",
    "3. Optimizing (objective w.r.t. model parameters)\n",
    "\n",
    "Good, everything we must do when using PyTorch is **define these 3 things**:\n",
    "\n",
    "1. Model: from `nn.Module` API\n",
    "2. Loss: again, `nn.Module` or [`nn.functional`](https://pytorch.org/docs/stable/nn.functional.html) API\n",
    "3. Optimizer: based on [`torch.optim.Optimizer`](https://pytorch.org/docs/stable/optim.html)\n",
    "\n",
    "In the previous tasks when it came to optimize objective we used **direct solution or gradient descent optimizations**\n",
    "\n",
    "Of course, there are plenty upgrades of gradient descent. It can use **adaptive step value**, **previous step gradients** and others. PyTorch also provides some classes for gradient optimizations. They are initializing with parameters they should tune for better loss value and during descent they do the step in gradient-based descent method.\n",
    "\n",
    "Here is the most used optimizers, based on which descent algorithm is used:\n",
    "\n",
    "- `torch.optim.Adam` uses both second and first momentum of gradient, very popular for its speed of convergence, simplicity. [paper](https://arxiv.org/abs/1412.6980)\n",
    "\n",
    "- `torch.optim.SGD` - good-old stochastic gradient descent. Can be used with Nesterov momentum optimization\n",
    "\n",
    "- `torch.optim.Adagrad` - [paper](https://jmlr.org/papers/v12/duchi11a.html)\n",
    "\n",
    "- `torch.optim.RMSprop` - introduced in [slides](https://www.cs.toronto.edu/~tijmen/csc321/slides/lecture_slides_lec6.pdf)\n",
    "\n"
   ]
  },
  {
   "cell_type": "markdown",
   "metadata": {
    "id": "_joC4G5v3M1J"
   },
   "source": [
    "First define the last 2 things: criterion and optimizer"
   ]
  },
  {
   "cell_type": "code",
   "execution_count": 73,
   "metadata": {
    "id": "QrEObxR2r67C"
   },
   "outputs": [],
   "source": [
    "# (logsoftmax + negative likelihood) in its core, applied to logits\n",
    "criterion = nn.CrossEntropyLoss() \n",
    "\n",
    "optimizer = torch.optim.Adam(model.parameters(), \n",
    "                             lr=1e-3, betas=(0.9, 0.99))"
   ]
  },
  {
   "cell_type": "markdown",
   "metadata": {
    "id": "PqXeZ4Gu4XuE"
   },
   "source": [
    "Finally, we are heading to **train loop**!\n",
    "\n",
    "Previously we iterated over epochs and batches (this is called train loop). So, let's do it here"
   ]
  },
  {
   "cell_type": "code",
   "execution_count": 77,
   "metadata": {
    "id": "k_meINtk45pO"
   },
   "outputs": [],
   "source": [
    "epochs = 3\n",
    "history = []"
   ]
  },
  {
   "cell_type": "code",
   "execution_count": 78,
   "metadata": {
    "colab": {
     "base_uri": "https://localhost:8080/",
     "height": 70
    },
    "executionInfo": {
     "elapsed": 36598,
     "status": "ok",
     "timestamp": 1603136414249,
     "user": {
      "displayName": "Deep Learning School",
      "photoUrl": "https://lh3.googleusercontent.com/a-/AOh14GhNf0RkP5WvkU5MixKfC1Sv3mb-9QWgAbC6VcfQvA=s64",
      "userId": "16549096980415837553"
     },
     "user_tz": -180
    },
    "id": "sc6CbL4p45pY",
    "outputId": "7b330ffa-669e-4697-bed6-137889f997fa"
   },
   "outputs": [
    {
     "name": "stdout",
     "output_type": "stream",
     "text": [
      "1,\t loss: 0.10300008952617645\n",
      "2,\t loss: 0.06028563529253006\n",
      "3,\t loss: 0.04579733684659004\n"
     ]
    }
   ],
   "source": [
    "for i in range(epochs):\n",
    "    for x_batch, y_batch in train_loader:\n",
    "        # 1. load batches of data correctly\n",
    "        x_batch = x_batch.view(x_batch.shape[0], -1).to(device)\n",
    "        y_batch = y_batch.to(device)\n",
    "\n",
    "        # 2. compute scores with .forward or .__call__\n",
    "        logits = model(x_batch)\n",
    "\n",
    "        # 3. compute loss\n",
    "        loss = criterion(logits, y_batch)\n",
    "        history.append(loss.item())\n",
    "\n",
    "        # 4. calc gradients\n",
    "        optimizer.zero_grad()\n",
    "        loss.backward()\n",
    "\n",
    "        # 5. step of gradient descent\n",
    "        optimizer.step() # it's possible, because we create optimizer with model param\n",
    "\n",
    "    print(f'{i+1},\\t loss: {history[-1]}')"
   ]
  },
  {
   "cell_type": "markdown",
   "metadata": {
    "id": "0Jot--gp5xEy"
   },
   "source": [
    "Plot and accurracy just to check the correctness."
   ]
  },
  {
   "cell_type": "code",
   "execution_count": 79,
   "metadata": {
    "id": "IePLJ3uq5u6H"
   },
   "outputs": [],
   "source": [
    "import matplotlib.pyplot as plt"
   ]
  },
  {
   "cell_type": "code",
   "execution_count": 80,
   "metadata": {
    "colab": {
     "base_uri": "https://localhost:8080/",
     "height": 458
    },
    "executionInfo": {
     "elapsed": 1889,
     "status": "ok",
     "timestamp": 1603136669216,
     "user": {
      "displayName": "Deep Learning School",
      "photoUrl": "https://lh3.googleusercontent.com/a-/AOh14GhNf0RkP5WvkU5MixKfC1Sv3mb-9QWgAbC6VcfQvA=s64",
      "userId": "16549096980415837553"
     },
     "user_tz": -180
    },
    "id": "mq6vkP095u6L",
    "outputId": "247fe34a-0613-4aaa-f219-574d26c11746"
   },
   "outputs": [
    {
     "data": {
      "image/png": "[encoded data removed]",
      "text/plain": [
       "<Figure size 720x504 with 1 Axes>"
      ]
     },
     "metadata": {
      "needs_background": "light"
     },
     "output_type": "display_data"
    }
   ],
   "source": [
    "plt.figure(figsize=(10, 7))\n",
    "\n",
    "plt.plot(history)\n",
    "\n",
    "plt.title('Loss by batch iterations')\n",
    "plt.ylabel('Entropy Loss')\n",
    "plt.xlabel('batches')\n",
    "\n",
    "plt.show()"
   ]
  },
  {
   "cell_type": "markdown",
   "metadata": {
    "id": "tekBJ55N5u6O"
   },
   "source": [
    "Some quality metrics for our two layer model"
   ]
  },
  {
   "cell_type": "code",
   "execution_count": 82,
   "metadata": {
    "id": "ZqoMcdz75u6O"
   },
   "outputs": [],
   "source": [
    "from sklearn.metrics import accuracy_score"
   ]
  },
  {
   "cell_type": "code",
   "execution_count": 83,
   "metadata": {
    "colab": {
     "base_uri": "https://localhost:8080/",
     "height": 35
    },
    "executionInfo": {
     "elapsed": 3042,
     "status": "ok",
     "timestamp": 1603136678308,
     "user": {
      "displayName": "Deep Learning School",
      "photoUrl": "https://lh3.googleusercontent.com/a-/AOh14GhNf0RkP5WvkU5MixKfC1Sv3mb-9QWgAbC6VcfQvA=s64",
      "userId": "16549096980415837553"
     },
     "user_tz": -180
    },
    "id": "051KxUi_5u6Q",
    "outputId": "2b4a839b-2671-4946-b0e3-0ad7cb28aaf7"
   },
   "outputs": [
    {
     "name": "stdout",
     "output_type": "stream",
     "text": [
      "Test accuracy 0.94\n"
     ]
    }
   ],
   "source": [
    "acc = 0\n",
    "batches = 0\n",
    "\n",
    "for x_batch, y_batch in test_loader:\n",
    "    # load batch of data correctly\n",
    "    batches += 1\n",
    "    x_batch = x_batch.view(x_batch.shape[0], -1).to(device)\n",
    "    y_batch = y_batch.to(device)\n",
    "\n",
    "    preds = torch.argmax(model(x_batch), dim=1)\n",
    "    acc += (preds==y_batch).cpu().numpy().mean()\n",
    "\n",
    "print(f'Test accuracy {acc / batches:.3}')"
   ]
  },
  {
   "cell_type": "markdown",
   "metadata": {
    "id": "wh14WDiz6KKe"
   },
   "source": [
    "## Summary\n",
    "\n",
    "We have build and trained the most simple neural network. It has been done by defining:\n",
    "\n",
    "1. `model`\n",
    "2. `criterion`\n",
    "1. `optimizer`\n",
    "\n",
    "Remember the steps during train on batch:\n",
    "\n",
    "1. load batch\n",
    "2. do forward pass of model (get `scores`)\n",
    "3. calculate `loss` (using criterion over `scores` and true labels of batch)\n",
    "4. perform `loss.backward()` (compute gradients of loss w.r.t. parameters)\n",
    "5. do optimization step (`optimizer.step()`)\n",
    "* zero gradients (place it everywhere but not between 4 and 5)\n",
    "* validating (after each epoch)\n",
    "\n"
   ]
  },
  {
   "cell_type": "markdown",
   "metadata": {},
   "source": [
    "### ALL "
   ]
  },
  {
   "cell_type": "code",
   "execution_count": 89,
   "metadata": {},
   "outputs": [
    {
     "data": {
      "text/plain": [
       "Sequential(\n",
       "  (0): Linear(in_features=784, out_features=64, bias=True)\n",
       "  (1): ReLU()\n",
       "  (2): Linear(in_features=64, out_features=10, bias=True)\n",
       ")"
      ]
     },
     "execution_count": 89,
     "metadata": {},
     "output_type": "execute_result"
    }
   ],
   "source": [
    "model = nn.Sequential(\n",
    "  nn.Linear(features, 64), # features_in, features_out \n",
    "  nn.ReLU(),\n",
    "  nn.Linear(64, classes)\n",
    ")\n",
    "\n",
    "model.to(device)"
   ]
  },
  {
   "cell_type": "code",
   "execution_count": 90,
   "metadata": {},
   "outputs": [],
   "source": [
    "criterion = nn.CrossEntropyLoss() \n",
    "\n",
    "optimizer = torch.optim.Adam(model.parameters(), \n",
    "                             lr=1e-3, betas=(0.9, 0.99))"
   ]
  },
  {
   "cell_type": "code",
   "execution_count": 91,
   "metadata": {},
   "outputs": [],
   "source": [
    "def validate(model):\n",
    "    acc = 0\n",
    "    batches = 0\n",
    "\n",
    "    for x_batch, y_batch in test_loader:\n",
    "        # load batch of data correctly\n",
    "        batches += 1\n",
    "        x_batch = x_batch.view(x_batch.shape[0], -1).to(device)\n",
    "        y_batch = y_batch.to(device)\n",
    "\n",
    "        preds = torch.argmax(model(x_batch), dim=1)\n",
    "        acc += (preds==y_batch).cpu().numpy().mean()\n",
    "\n",
    "    return acc / batches"
   ]
  },
  {
   "cell_type": "code",
   "execution_count": 92,
   "metadata": {},
   "outputs": [
    {
     "name": "stdout",
     "output_type": "stream",
     "text": [
      "1,\t train loss: 0.09680347889661789\n",
      "1,\t test acc: 0.903145032051282\n",
      "2,\t train loss: 0.061905816197395325\n",
      "2,\t test acc: 0.9205729166666666\n",
      "3,\t train loss: 0.04995190352201462\n",
      "3,\t test acc: 0.9342948717948718\n",
      "4,\t train loss: 0.04478923976421356\n",
      "4,\t test acc: 0.9457131410256411\n",
      "5,\t train loss: 0.03990507125854492\n",
      "5,\t test acc: 0.9521233974358975\n",
      "6,\t train loss: 0.038163892924785614\n",
      "6,\t test acc: 0.9557291666666666\n",
      "7,\t train loss: 0.034166742116212845\n",
      "7,\t test acc: 0.9589342948717948\n",
      "8,\t train loss: 0.030195383355021477\n",
      "8,\t test acc: 0.9610376602564102\n",
      "9,\t train loss: 0.02953517623245716\n",
      "9,\t test acc: 0.9621394230769231\n",
      "10,\t train loss: 0.025535495951771736\n",
      "10,\t test acc: 0.964042467948718\n"
     ]
    }
   ],
   "source": [
    "for i in range(10):\n",
    "    for x_batch, y_batch in train_loader:\n",
    "        # 1. load batches of data correctly\n",
    "        x_batch = x_batch.view(x_batch.shape[0], -1).to(device)\n",
    "        y_batch = y_batch.to(device)\n",
    "\n",
    "        # 2. compute scores with .forward or .__call__\n",
    "        logits = model(x_batch)\n",
    "\n",
    "        # 3. compute loss\n",
    "        loss = criterion(logits, y_batch)\n",
    "        history.append(loss.item())\n",
    "\n",
    "        # 4. calc gradients\n",
    "        optimizer.zero_grad()\n",
    "        loss.backward()\n",
    "\n",
    "        # 5. step of gradient descent\n",
    "        optimizer.step() # it's possible, because we create optimizer with model param\n",
    "\n",
    "    print(f'{i+1},\\t train loss: {history[-1]}')\n",
    "    print(f'{i+1},\\t test acc: {validate(model)}')"
   ]
  }
 ],
 "metadata": {
  "accelerator": "GPU",
  "colab": {
   "collapsed_sections": [],
   "name": "[seminar, adv]pytorch_simple_NN.ipynb",
   "provenance": []
  },
  "kernelspec": {
   "display_name": "Python 3",
   "language": "python",
   "name": "python3"
  },
  "language_info": {
   "codemirror_mode": {
    "name": "ipython",
    "version": 3
   },
   "file_extension": ".py",
   "mimetype": "text/x-python",
   "name": "python",
   "nbconvert_exporter": "python",
   "pygments_lexer": "ipython3",
   "version": "3.7.4"
  }
 },
 "nbformat": 4,
 "nbformat_minor": 1
}
